{
 "cells": [
  {
   "cell_type": "code",
   "execution_count": 2,
   "metadata": {},
   "outputs": [],
   "source": [
    "import yfinance as yf"
   ]
  },
  {
   "cell_type": "markdown",
   "metadata": {},
   "source": [
    "Buy and Hold Strategy"
   ]
  },
  {
   "cell_type": "code",
   "execution_count": 21,
   "metadata": {},
   "outputs": [
    {
     "name": "stdout",
     "output_type": "stream",
     "text": [
      "[*********************100%***********************]  1 of 1 completed\n",
      "49.80595779418945\n",
      "178.73370361328125\n",
      "Komisyon Alinmadiginda:\n",
      "Son Para Miktari: $35746.74\n",
      "Yillik Getiri: 0.44%\n",
      "Ortalama islem kari: 25746.74\n",
      "Ortalama islem uzunlugu: 6553.00\n",
      "Portföy Maksimum Değeri: $47369.15\n",
      "Portföy Minimum Değeri: $5632.69\n",
      "*****************************************\n",
      "Komisyon Alindiginda:\n",
      "Son Para Miktari: $35745.74\n",
      "Yillik Getiri: 0.44%\n",
      "Ortalama islem kari: 25745.74\n",
      "Ortalama islem uzunlugu: 6553.00\n",
      "Portföy Maksimum Değeri: $47369.15\n",
      "Portföy Minimum Değeri: $5632.69\n"
     ]
    }
   ],
   "source": [
    "from datetime import datetime\n",
    "symbol = \"IWM\"\n",
    "start_date = datetime.strptime(\"2005-01-03\", \"%Y-%m-%d\")\n",
    "end_date = datetime.strptime(\"2022-12-31\", \"%Y-%m-%d\")\n",
    "stock_data = yf.download(symbol, start=start_date, end=end_date)\n",
    "#baslangic fiyati\n",
    "int_price = stock_data['Adj Close'][0]\n",
    "#print(int_price)\n",
    "final_price = stock_data['Adj Close'][-1]\n",
    "#print(final_price)\n",
    "baslangic_sermayesi = 10000\n",
    "#ilk durumda(baslangicta) alincak hisse sayisi\n",
    "hisse_sayisi_ilk = baslangic_sermayesi // int_price\n",
    "\n",
    "#islem icin komisyonun alinmadigi durum..\n",
    "#En son para miktari.\n",
    "\n",
    "final_amount = (hisse_sayisi_ilk * final_price)\n",
    "\n",
    "# Stratejinin yıllık getirisi (annualized return)\n",
    "years = (end_date - start_date).days / 365.0\n",
    "annualized_return = (final_amount / int_price) ** (1 / years) - 1\n",
    " \n",
    "#Bir yilda ortalama islem sayisi (1 alim-1 satim cifti 1 islem sayilir) \n",
    "#0dir yatirimci uzun vadeli bir yaklaşımla hisse senedini satin alir ve elinde tutar, alim-satim islemleri gerceklestirmez. \n",
    "#ortalama islem kari ise;\n",
    "ortalama_islem_kari = (final_amount - baslangic_sermayesi) /1\n",
    "#ortalama islem uzunlugu ise \n",
    "\n",
    "ortalama_islem_uzunlugu = (end_date - start_date).days\n",
    "\n",
    "# maksimum zarar veya kar uzun vadeli islem oldugu icin ya kar eder ya da zarar eder.\n",
    "\n",
    "#bunu da \n",
    "max_kar_zarar = final_amount - baslangic_sermayesi #nden ogrenebiliriz.\n",
    "\n",
    "# Portföy (kapital) maksimum ve minimum değerleri\n",
    "portfolio_value = stock_data['Adj Close'] * hisse_sayisi_ilk\n",
    "max_portfolio_value = portfolio_value.max()\n",
    "min_portfolio_value = portfolio_value.min()\n",
    "\n",
    "print(\"Komisyon Alinmadiginda:\")\n",
    "print(f\"Son Para Miktari: ${final_amount:.2f}\")\n",
    "print(f\"Yillik Getiri: {annualized_return :.2f}%\")\n",
    "print(f\"Ortalama islem kari: {ortalama_islem_kari:.2f}\")\n",
    "print(f\"Ortalama islem uzunlugu: {ortalama_islem_uzunlugu:.2f}\")\n",
    "print(f\"Portföy Maksimum Değeri: ${max_portfolio_value:.2f}\")\n",
    "print(f\"Portföy Minimum Değeri: ${min_portfolio_value :.2f}\")\n",
    "\n",
    "\n",
    "#\n",
    "# \n",
    "# \n",
    "# \n",
    "# \n",
    "# \n",
    "# \n",
    "#islem icin komisyonun alindigi durum..\n",
    "#En son para miktari.\n",
    "\n",
    "\n",
    "\n",
    "final_amount_komisyonlu = (hisse_sayisi_ilk * final_price) -1\n",
    "\n",
    "# Stratejinin yıllık getirisi (annualized return)\n",
    "years = (end_date - start_date).days / 365.0\n",
    "annualized_return = (final_amount_komisyonlu / int_price) ** (1 / years) - 1\n",
    " \n",
    "#Bir yilda ortalama islem sayisi (1 alim-1 satim cifti 1 islem sayilir) \n",
    "#0dir yatirimci uzun vadeli bir yaklaşımla hisse senedini satin alir ve elinde tutar, alim-satim islemleri gerceklestirmez. \n",
    "#ortalama islem kari ise;\n",
    "ortalama_islem_kari = (final_amount - baslangic_sermayesi-1) /1 \n",
    "#ortalama islem uzunlugu ise \n",
    "\n",
    "ortalama_islem_uzunlugu = (end_date - start_date).days\n",
    "\n",
    "# maksimum zarar veya kar uzun vadeli islem oldugu icin ya kar eder ya da zarar eder.\n",
    "\n",
    "#bunu da \n",
    "max_kar_zarar = final_amount - baslangic_sermayesi-1 #nden ogrenebiliriz.\n",
    "\n",
    "# Portföy (kapital) maksimum ve minimum değerleri\n",
    "portfolio_value = stock_data['Adj Close'] * hisse_sayisi_ilk\n",
    "max_portfolio_value = portfolio_value.max()\n",
    "min_portfolio_value = portfolio_value.min()\n",
    "print(\"*****************************************\")\n",
    "print(\"Komisyon Alindiginda:\")\n",
    "print(f\"Son Para Miktari: ${final_amount_komisyonlu:.2f}\")\n",
    "print(f\"Yillik Getiri: {annualized_return :.2f}%\")\n",
    "print(f\"Ortalama islem kari: {ortalama_islem_kari:.2f}\")\n",
    "print(f\"Ortalama islem uzunlugu: {ortalama_islem_uzunlugu:.2f}\")\n",
    "print(f\"Portföy Maksimum Değeri: ${max_portfolio_value:.2f}\")\n",
    "print(f\"Portföy Minimum Değeri: ${min_portfolio_value :.2f}\")\n"
   ]
  },
  {
   "cell_type": "markdown",
   "metadata": {},
   "source": [
    "Her ayın son işlem günü al, ertesi ayın 25’inden sonraki ilk işlem gününde sat. (Yatırım fonları genelde her ayın başında alım yaparlar, acaba bunun bir etkisi var mı ?)"
   ]
  },
  {
   "cell_type": "code",
   "execution_count": 23,
   "metadata": {},
   "outputs": [],
   "source": [
    "from datetime import datetime, timedelta\n",
    "\n",
    "def monthly_trading_strategy(starting_capital, symbol, start_date, end_date, commission=0):\n",
    "    start_date = datetime.strptime(start_date, \"%Y-%m-%d\")\n",
    "    end_date = datetime.strptime(end_date, \"%Y-%m-%d\")\n",
    "    \n",
    "    # Başlangıç sermayesi ve portföy miktarını tanımla\n",
    "    portfolio_value = starting_capital\n",
    "    num_shares = 0\n",
    "\n",
    "    current_date = start_date\n",
    "    #ilk alim tarihi\n",
    "    next_buy_date = (current_date.replace(day=1 , month=start_date.month+1) - timedelta(days=1))\n",
    "\n",
    "    #print(next_buy_date) #31-1-2005\n",
    "\n",
    "    current_date = start_date + timedelta(days=1)\n",
    "\n",
    "    \n",
    "    while current_date <= end_date:\n",
    "        stock_data = yf.download(symbol, start=next_buy_date, end=current_date)\n",
    "\n",
    "        #alis gunu\n",
    "        if current_date.day > 27 :\n",
    "            if current_date.month==1:\n",
    "                if(current_date.day) == 31:\n",
    "                    #ocak icin satis yap.\n",
    "                    current_price = stock_data['Adj Close'][-1]\n",
    "                    num_shares = portfolio_value // current_price\n",
    "                    portfolio_value -= (num_shares * current_price) + commission\n",
    "            elif current_date.month==2:\n",
    "                if(current_date.year % 4 )==0 :\n",
    "                    if(current_date.day==29):\n",
    "                        ##subat icin satis yap\n",
    "                        current_price = stock_data['Adj Close'][-1]\n",
    "                        num_shares = portfolio_value // current_price\n",
    "                        portfolio_value -= (num_shares * current_price) + commission \n",
    "                else:\n",
    "                    if(current_date.day==28):      \n",
    "                        #subat icin satis yap.\n",
    "                        current_price = stock_data['Adj Close'][-1]\n",
    "                        num_shares = portfolio_value // current_price\n",
    "                        portfolio_value -= (num_shares * current_price) + commission\n",
    "            elif current_date.month ==3:\n",
    "                if(current_date.day==31):\n",
    "                    current_price = stock_data['Adj Close'][-1]\n",
    "                    num_shares = portfolio_value // current_price\n",
    "                    portfolio_value -= (num_shares * current_price) + commission\n",
    "            elif current_date.month ==4:\n",
    "                if(current_date.day==30):\n",
    "                    current_price = stock_data['Adj Close'][-1]\n",
    "                    num_shares = portfolio_value // current_price\n",
    "                    portfolio_value -= (num_shares * current_price) + commission\n",
    "            elif current_date.month ==5:\n",
    "                if(current_date.day==31):\n",
    "                    current_price = stock_data['Adj Close'][-1]\n",
    "                    num_shares = portfolio_value // current_price\n",
    "                    portfolio_value -= (num_shares * current_price) + commission\n",
    "            elif current_date.month ==6:\n",
    "                if(current_date.day==30):\n",
    "                    current_price = stock_data['Adj Close'][-1]\n",
    "                    num_shares = portfolio_value // current_price\n",
    "                    portfolio_value -= (num_shares * current_price) + commission\n",
    "            elif current_date.month ==7:\n",
    "                if(current_date.day==31):\n",
    "                    current_price = stock_data['Adj Close'][-1]\n",
    "                    num_shares = portfolio_value // current_price\n",
    "                    portfolio_value -= (num_shares * current_price) + commission\n",
    "            elif current_date.month ==8:\n",
    "                if(current_date.day==31):\n",
    "                    current_price = stock_data['Adj Close'][-1]\n",
    "                    num_shares = portfolio_value // current_price\n",
    "                    portfolio_value -= (num_shares * current_price) + commission\n",
    "            elif current_date.month ==9:\n",
    "                if(current_date.day==30):\n",
    "                    current_price = stock_data['Adj Close'][-1]\n",
    "                    num_shares = portfolio_value // current_price\n",
    "                    portfolio_value -= (num_shares * current_price) + commission\n",
    "            elif current_date.month ==10:\n",
    "                if(current_date.day==31):\n",
    "                    current_price = stock_data['Adj Close'][-1]\n",
    "                    num_shares = portfolio_value // current_price\n",
    "                    portfolio_value -= (num_shares * current_price) + commission\n",
    "            elif current_date.month ==11:\n",
    "                if(current_date.day==30):\n",
    "                    current_price = stock_data['Adj Close'][-1]\n",
    "                    num_shares = portfolio_value // current_price\n",
    "                    portfolio_value -= (num_shares * current_price) + commission\n",
    "            elif current_date.month ==12:\n",
    "                if(current_date.day==31):\n",
    "                    current_price = stock_data['Adj Close'][-1]\n",
    "                    num_shares = portfolio_value // current_price\n",
    "                    portfolio_value -= (num_shares * current_price) + commission\n",
    "        \n",
    "        \n",
    "        #satis gunu\n",
    "        if current_date.day == 26:\n",
    "            current_price = stock_data['Adj Close'][-1]\n",
    "            portfolio_value += (num_shares * current_price) - commission\n",
    "            num_shares = 0\n",
    "            \n",
    "        current_date += timedelta(days=1)    \n",
    "    # Stratejinin yıllık getirisi (annualized return)\n",
    "    years = (end_date - start_date).days / 365.0\n",
    "    final_amount = portfolio_value + (num_shares * stock_data['Adj Close'][-1])\n",
    "    annualized_return = (final_amount / starting_capital) ** (1 / years) - 1\n",
    "    return final_amount, annualized_return     "
   ]
  },
  {
   "cell_type": "code",
   "execution_count": 24,
   "metadata": {},
   "outputs": [
    {
     "name": "stdout",
     "output_type": "stream",
     "text": [
      "[*********************100%***********************]  1 of 1 completed"
     ]
    },
    {
     "name": "stderr",
     "output_type": "stream",
     "text": [
      "\n",
      "1 Failed download:\n",
      "['IWM']: Exception('%ticker%: Invalid input - start date cannot be after end date. startDate = 1107147600, endDate = 1104642000')\n"
     ]
    },
    {
     "name": "stdout",
     "output_type": "stream",
     "text": [
      "\n",
      "[*********************100%***********************]  1 of 1 completed"
     ]
    },
    {
     "name": "stderr",
     "output_type": "stream",
     "text": [
      "\n",
      "1 Failed download:\n",
      "['IWM']: Exception('%ticker%: Invalid input - start date cannot be after end date. startDate = 1107147600, endDate = 1104728400')\n"
     ]
    },
    {
     "name": "stdout",
     "output_type": "stream",
     "text": [
      "\n",
      "[*********************100%***********************]  1 of 1 completed"
     ]
    },
    {
     "name": "stderr",
     "output_type": "stream",
     "text": [
      "\n",
      "1 Failed download:\n",
      "['IWM']: Exception('%ticker%: Invalid input - start date cannot be after end date. startDate = 1107147600, endDate = 1104814800')\n"
     ]
    },
    {
     "name": "stdout",
     "output_type": "stream",
     "text": [
      "\n",
      "[*********************100%***********************]  1 of 1 completed"
     ]
    },
    {
     "name": "stderr",
     "output_type": "stream",
     "text": [
      "\n",
      "1 Failed download:\n",
      "['IWM']: Exception('%ticker%: Invalid input - start date cannot be after end date. startDate = 1107147600, endDate = 1104901200')\n"
     ]
    },
    {
     "name": "stdout",
     "output_type": "stream",
     "text": [
      "\n",
      "[*********************100%***********************]  1 of 1 completed"
     ]
    },
    {
     "name": "stderr",
     "output_type": "stream",
     "text": [
      "\n",
      "1 Failed download:\n",
      "['IWM']: Exception('%ticker%: Invalid input - start date cannot be after end date. startDate = 1107147600, endDate = 1104987600')\n"
     ]
    },
    {
     "name": "stdout",
     "output_type": "stream",
     "text": [
      "\n",
      "[*********************100%***********************]  1 of 1 completed"
     ]
    },
    {
     "name": "stderr",
     "output_type": "stream",
     "text": [
      "\n",
      "1 Failed download:\n",
      "['IWM']: Exception('%ticker%: Invalid input - start date cannot be after end date. startDate = 1107147600, endDate = 1105074000')\n"
     ]
    },
    {
     "name": "stdout",
     "output_type": "stream",
     "text": [
      "\n",
      "[*********************100%***********************]  1 of 1 completed"
     ]
    },
    {
     "name": "stderr",
     "output_type": "stream",
     "text": [
      "\n",
      "1 Failed download:\n",
      "['IWM']: Exception('%ticker%: Invalid input - start date cannot be after end date. startDate = 1107147600, endDate = 1105160400')\n"
     ]
    },
    {
     "name": "stdout",
     "output_type": "stream",
     "text": [
      "\n",
      "[*********************100%***********************]  1 of 1 completed"
     ]
    },
    {
     "name": "stderr",
     "output_type": "stream",
     "text": [
      "\n",
      "1 Failed download:\n",
      "['IWM']: Exception('%ticker%: Invalid input - start date cannot be after end date. startDate = 1107147600, endDate = 1105246800')\n"
     ]
    },
    {
     "name": "stdout",
     "output_type": "stream",
     "text": [
      "\n",
      "[*********************100%***********************]  1 of 1 completed"
     ]
    },
    {
     "name": "stderr",
     "output_type": "stream",
     "text": [
      "\n",
      "1 Failed download:\n",
      "['IWM']: Exception('%ticker%: Invalid input - start date cannot be after end date. startDate = 1107147600, endDate = 1105333200')\n"
     ]
    },
    {
     "name": "stdout",
     "output_type": "stream",
     "text": [
      "\n",
      "[*********************100%***********************]  1 of 1 completed"
     ]
    },
    {
     "name": "stderr",
     "output_type": "stream",
     "text": [
      "\n",
      "1 Failed download:\n",
      "['IWM']: Exception('%ticker%: Invalid input - start date cannot be after end date. startDate = 1107147600, endDate = 1105419600')\n"
     ]
    },
    {
     "name": "stdout",
     "output_type": "stream",
     "text": [
      "\n",
      "[*********************100%***********************]  1 of 1 completed"
     ]
    },
    {
     "name": "stderr",
     "output_type": "stream",
     "text": [
      "\n",
      "1 Failed download:\n",
      "['IWM']: Exception('%ticker%: Invalid input - start date cannot be after end date. startDate = 1107147600, endDate = 1105506000')\n"
     ]
    },
    {
     "name": "stdout",
     "output_type": "stream",
     "text": [
      "\n",
      "[*********************100%***********************]  1 of 1 completed"
     ]
    },
    {
     "name": "stderr",
     "output_type": "stream",
     "text": [
      "\n",
      "1 Failed download:\n",
      "['IWM']: Exception('%ticker%: Invalid input - start date cannot be after end date. startDate = 1107147600, endDate = 1105592400')\n"
     ]
    },
    {
     "name": "stdout",
     "output_type": "stream",
     "text": [
      "\n",
      "[*********************100%***********************]  1 of 1 completed"
     ]
    },
    {
     "name": "stderr",
     "output_type": "stream",
     "text": [
      "\n",
      "1 Failed download:\n",
      "['IWM']: Exception('%ticker%: Invalid input - start date cannot be after end date. startDate = 1107147600, endDate = 1105678800')\n"
     ]
    },
    {
     "name": "stdout",
     "output_type": "stream",
     "text": [
      "\n",
      "[*********************100%***********************]  1 of 1 completed"
     ]
    },
    {
     "name": "stderr",
     "output_type": "stream",
     "text": [
      "\n",
      "1 Failed download:\n",
      "['IWM']: Exception('%ticker%: Invalid input - start date cannot be after end date. startDate = 1107147600, endDate = 1105765200')\n"
     ]
    },
    {
     "name": "stdout",
     "output_type": "stream",
     "text": [
      "\n",
      "[*********************100%***********************]  1 of 1 completed"
     ]
    },
    {
     "name": "stderr",
     "output_type": "stream",
     "text": [
      "\n",
      "1 Failed download:\n",
      "['IWM']: Exception('%ticker%: Invalid input - start date cannot be after end date. startDate = 1107147600, endDate = 1105851600')\n"
     ]
    },
    {
     "name": "stdout",
     "output_type": "stream",
     "text": [
      "\n",
      "[*********************100%***********************]  1 of 1 completed"
     ]
    },
    {
     "name": "stderr",
     "output_type": "stream",
     "text": [
      "\n",
      "1 Failed download:\n",
      "['IWM']: Exception('%ticker%: Invalid input - start date cannot be after end date. startDate = 1107147600, endDate = 1105938000')\n"
     ]
    },
    {
     "name": "stdout",
     "output_type": "stream",
     "text": [
      "\n",
      "[*********************100%***********************]  1 of 1 completed"
     ]
    },
    {
     "name": "stderr",
     "output_type": "stream",
     "text": [
      "\n",
      "1 Failed download:\n",
      "['IWM']: Exception('%ticker%: Invalid input - start date cannot be after end date. startDate = 1107147600, endDate = 1106024400')\n"
     ]
    },
    {
     "name": "stdout",
     "output_type": "stream",
     "text": [
      "\n",
      "[*********************100%***********************]  1 of 1 completed"
     ]
    },
    {
     "name": "stderr",
     "output_type": "stream",
     "text": [
      "\n",
      "1 Failed download:\n",
      "['IWM']: Exception('%ticker%: Invalid input - start date cannot be after end date. startDate = 1107147600, endDate = 1106110800')\n"
     ]
    },
    {
     "name": "stdout",
     "output_type": "stream",
     "text": [
      "\n",
      "[*********************100%***********************]  1 of 1 completed"
     ]
    },
    {
     "name": "stderr",
     "output_type": "stream",
     "text": [
      "\n",
      "1 Failed download:\n",
      "['IWM']: Exception('%ticker%: Invalid input - start date cannot be after end date. startDate = 1107147600, endDate = 1106197200')\n"
     ]
    },
    {
     "name": "stdout",
     "output_type": "stream",
     "text": [
      "\n",
      "[*********************100%***********************]  1 of 1 completed"
     ]
    },
    {
     "name": "stderr",
     "output_type": "stream",
     "text": [
      "\n",
      "1 Failed download:\n",
      "['IWM']: Exception('%ticker%: Invalid input - start date cannot be after end date. startDate = 1107147600, endDate = 1106283600')\n"
     ]
    },
    {
     "name": "stdout",
     "output_type": "stream",
     "text": [
      "\n",
      "[*********************100%***********************]  1 of 1 completed"
     ]
    },
    {
     "name": "stderr",
     "output_type": "stream",
     "text": [
      "\n",
      "1 Failed download:\n",
      "['IWM']: Exception('%ticker%: Invalid input - start date cannot be after end date. startDate = 1107147600, endDate = 1106370000')\n"
     ]
    },
    {
     "name": "stdout",
     "output_type": "stream",
     "text": [
      "\n",
      "[*********************100%***********************]  1 of 1 completed"
     ]
    },
    {
     "name": "stderr",
     "output_type": "stream",
     "text": [
      "\n",
      "1 Failed download:\n",
      "['IWM']: Exception('%ticker%: Invalid input - start date cannot be after end date. startDate = 1107147600, endDate = 1106456400')\n"
     ]
    },
    {
     "name": "stdout",
     "output_type": "stream",
     "text": [
      "\n",
      "[*********************100%***********************]  1 of 1 completed"
     ]
    },
    {
     "name": "stderr",
     "output_type": "stream",
     "text": [
      "\n",
      "1 Failed download:\n",
      "['IWM']: Exception('%ticker%: Invalid input - start date cannot be after end date. startDate = 1107147600, endDate = 1106542800')\n"
     ]
    },
    {
     "name": "stdout",
     "output_type": "stream",
     "text": [
      "\n",
      "[*********************100%***********************]  1 of 1 completed"
     ]
    },
    {
     "name": "stderr",
     "output_type": "stream",
     "text": [
      "\n",
      "1 Failed download:\n",
      "['IWM']: Exception('%ticker%: Invalid input - start date cannot be after end date. startDate = 1107147600, endDate = 1106629200')\n"
     ]
    },
    {
     "name": "stdout",
     "output_type": "stream",
     "text": [
      "\n",
      "[*********************100%***********************]  1 of 1 completed"
     ]
    },
    {
     "name": "stderr",
     "output_type": "stream",
     "text": [
      "\n",
      "1 Failed download:\n",
      "['IWM']: Exception('%ticker%: Invalid input - start date cannot be after end date. startDate = 1107147600, endDate = 1106715600')\n"
     ]
    },
    {
     "name": "stdout",
     "output_type": "stream",
     "text": [
      "\n"
     ]
    },
    {
     "ename": "IndexError",
     "evalue": "index -1 is out of bounds for axis 0 with size 0",
     "output_type": "error",
     "traceback": [
      "\u001b[1;31m---------------------------------------------------------------------------\u001b[0m",
      "\u001b[1;31mIndexError\u001b[0m                                Traceback (most recent call last)",
      "\u001b[1;32mc:\\Users\\HP\\Desktop\\471\\471_Odev2\\strategies.ipynb Cell 6\u001b[0m in \u001b[0;36m9\n\u001b[0;32m      <a href='vscode-notebook-cell:/c%3A/Users/HP/Desktop/471/471_Odev2/strategies.ipynb#X11sZmlsZQ%3D%3D?line=5'>6</a>\u001b[0m commission_with \u001b[39m=\u001b[39m \u001b[39m1\u001b[39m  \u001b[39m# Alım ve satım için $1 komisyon alındığında\u001b[39;00m\n\u001b[0;32m      <a href='vscode-notebook-cell:/c%3A/Users/HP/Desktop/471/471_Odev2/strategies.ipynb#X11sZmlsZQ%3D%3D?line=7'>8</a>\u001b[0m \u001b[39m# Komisyon alınmadığında sonuçlar\u001b[39;00m\n\u001b[1;32m----> <a href='vscode-notebook-cell:/c%3A/Users/HP/Desktop/471/471_Odev2/strategies.ipynb#X11sZmlsZQ%3D%3D?line=8'>9</a>\u001b[0m final_amount_without_commission, annualized_return_without \u001b[39m=\u001b[39m monthly_trading_strategy(\n\u001b[0;32m     <a href='vscode-notebook-cell:/c%3A/Users/HP/Desktop/471/471_Odev2/strategies.ipynb#X11sZmlsZQ%3D%3D?line=9'>10</a>\u001b[0m     starting_capital, symbol, start_date, end_date, commission_without\n\u001b[0;32m     <a href='vscode-notebook-cell:/c%3A/Users/HP/Desktop/471/471_Odev2/strategies.ipynb#X11sZmlsZQ%3D%3D?line=10'>11</a>\u001b[0m )\n\u001b[0;32m     <a href='vscode-notebook-cell:/c%3A/Users/HP/Desktop/471/471_Odev2/strategies.ipynb#X11sZmlsZQ%3D%3D?line=12'>13</a>\u001b[0m \u001b[39m# Komisyon alındığında sonuçlar\u001b[39;00m\n\u001b[0;32m     <a href='vscode-notebook-cell:/c%3A/Users/HP/Desktop/471/471_Odev2/strategies.ipynb#X11sZmlsZQ%3D%3D?line=13'>14</a>\u001b[0m final_amount_with_commission, annualized_return_with \u001b[39m=\u001b[39m monthly_trading_strategy(\n\u001b[0;32m     <a href='vscode-notebook-cell:/c%3A/Users/HP/Desktop/471/471_Odev2/strategies.ipynb#X11sZmlsZQ%3D%3D?line=14'>15</a>\u001b[0m     starting_capital, symbol, start_date, end_date, commission_with\n\u001b[0;32m     <a href='vscode-notebook-cell:/c%3A/Users/HP/Desktop/471/471_Odev2/strategies.ipynb#X11sZmlsZQ%3D%3D?line=15'>16</a>\u001b[0m )\n",
      "\u001b[1;32mc:\\Users\\HP\\Desktop\\471\\471_Odev2\\strategies.ipynb Cell 6\u001b[0m in \u001b[0;36m9\n\u001b[0;32m     <a href='vscode-notebook-cell:/c%3A/Users/HP/Desktop/471/471_Odev2/strategies.ipynb#X11sZmlsZQ%3D%3D?line=95'>96</a>\u001b[0m \u001b[39m#satis gunu\u001b[39;00m\n\u001b[0;32m     <a href='vscode-notebook-cell:/c%3A/Users/HP/Desktop/471/471_Odev2/strategies.ipynb#X11sZmlsZQ%3D%3D?line=96'>97</a>\u001b[0m \u001b[39mif\u001b[39;00m current_date\u001b[39m.\u001b[39mday \u001b[39m==\u001b[39m \u001b[39m26\u001b[39m:\n\u001b[1;32m---> <a href='vscode-notebook-cell:/c%3A/Users/HP/Desktop/471/471_Odev2/strategies.ipynb#X11sZmlsZQ%3D%3D?line=97'>98</a>\u001b[0m     current_price \u001b[39m=\u001b[39m stock_data[\u001b[39m'\u001b[39;49m\u001b[39mAdj Close\u001b[39;49m\u001b[39m'\u001b[39;49m][\u001b[39m-\u001b[39;49m\u001b[39m1\u001b[39;49m]\n\u001b[0;32m     <a href='vscode-notebook-cell:/c%3A/Users/HP/Desktop/471/471_Odev2/strategies.ipynb#X11sZmlsZQ%3D%3D?line=98'>99</a>\u001b[0m     portfolio_value \u001b[39m+\u001b[39m\u001b[39m=\u001b[39m (num_shares \u001b[39m*\u001b[39m current_price) \u001b[39m-\u001b[39m commission\n\u001b[0;32m    <a href='vscode-notebook-cell:/c%3A/Users/HP/Desktop/471/471_Odev2/strategies.ipynb#X11sZmlsZQ%3D%3D?line=99'>100</a>\u001b[0m     num_shares \u001b[39m=\u001b[39m \u001b[39m0\u001b[39m\n",
      "File \u001b[1;32mc:\\Users\\HP\\AppData\\Local\\Programs\\Python\\Python38\\lib\\site-packages\\pandas\\core\\series.py:978\u001b[0m, in \u001b[0;36mSeries.__getitem__\u001b[1;34m(self, key)\u001b[0m\n\u001b[0;32m    975\u001b[0m     key \u001b[39m=\u001b[39m unpack_1tuple(key)\n\u001b[0;32m    977\u001b[0m \u001b[39mif\u001b[39;00m is_integer(key) \u001b[39mand\u001b[39;00m \u001b[39mself\u001b[39m\u001b[39m.\u001b[39mindex\u001b[39m.\u001b[39m_should_fallback_to_positional:\n\u001b[1;32m--> 978\u001b[0m     \u001b[39mreturn\u001b[39;00m \u001b[39mself\u001b[39;49m\u001b[39m.\u001b[39;49m_values[key]\n\u001b[0;32m    980\u001b[0m \u001b[39melif\u001b[39;00m key_is_scalar:\n\u001b[0;32m    981\u001b[0m     \u001b[39mreturn\u001b[39;00m \u001b[39mself\u001b[39m\u001b[39m.\u001b[39m_get_value(key)\n",
      "\u001b[1;31mIndexError\u001b[0m: index -1 is out of bounds for axis 0 with size 0"
     ]
    }
   ],
   "source": [
    "starting_capital = 10000  # Başlangıç sermayesi: $10,000\n",
    "symbol = \"IWM\"  # Hisse senedi sembolü\n",
    "start_date = \"2005-01-01\"\n",
    "end_date = \"2022-12-31\"\n",
    "commission_without = 0  # Komisyon alınmadığında\n",
    "commission_with = 1  # Alım ve satım için $1 komisyon alındığında\n",
    "\n",
    "# Komisyon alınmadığında sonuçlar\n",
    "final_amount_without_commission, annualized_return_without = monthly_trading_strategy(\n",
    "    starting_capital, symbol, start_date, end_date, commission_without\n",
    ")\n",
    "\n",
    "# Komisyon alındığında sonuçlar\n",
    "final_amount_with_commission, annualized_return_with = monthly_trading_strategy(\n",
    "    starting_capital, symbol, start_date, end_date, commission_with\n",
    ")\n",
    "\n",
    "print(\"Komisyon Alinmadiginda:\")\n",
    "print(f\"Son Para Miktari: ${final_amount_without_commission:.2f}\")\n",
    "print(f\"Yillik Getiri: {annualized_return_without * 100:.2f}%\")\n",
    "\n",
    "print(\"\\nKomisyon Alindiginda:\")\n",
    "print(f\"Son Para Miktari: ${final_amount_with_commission:.2f}\")\n",
    "print(f\"Yillik Getiri: {annualized_return_with * 100:.2f}%\")"
   ]
  },
  {
   "cell_type": "code",
   "execution_count": null,
   "metadata": {},
   "outputs": [],
   "source": [
    "import yfinance as yf\n",
    "from datetime import datetime, timedelta\n",
    "\n",
    "def monthly_trading_strategy(starting_capital, symbol, start_date, end_date, commission=0):\n",
    "    # Tarihleri uygun formata dönüştür\n",
    "    start_date = datetime.strptime(start_date, \"%Y-%m-%d\")\n",
    "    end_date = datetime.strptime(end_date, \"%Y-%m-%d\")\n",
    "    \n",
    "    # Başlangıç sermayesi ve portföy miktarını tanımla\n",
    "    portfolio_value = starting_capital\n",
    "    num_shares = 0\n",
    "    \n",
    "    # İlk alım tarihini belirle (her ayın son işlem günü)\n",
    "    next_buy_date = (start_date.replace(day=1, month=start_date.month+1) - timedelta(days=1))\n",
    "    \n",
    "    # Son tarihi bir gün artırarak başlayın\n",
    "    current_date = start_date + timedelta(days=1)\n",
    "    \n",
    "    while current_date <= end_date:\n",
    "        # Hisse senedi verilerini yfinance kütüphanesini kullanarak alın\n",
    "        stock_data = yf.download(symbol, start=next_buy_date, end=current_date)\n",
    "        \n",
    "        # Alış yapma zamanı gelmiş mi kontrol et\n",
    "        if current_date.day == 25:\n",
    "            # Portföye alım yap\n",
    "            current_price = stock_data['Adj Close'][-1]\n",
    "            num_shares = portfolio_value // current_price\n",
    "            portfolio_value -= (num_shares * current_price) + commission\n",
    "            \n",
    "            # Bir sonraki alım tarihini belirle (her ayın son işlem günü)\n",
    "            next_buy_date = (current_date.replace(day=1, month=current_date.month+1) - timedelta(days=1))\n",
    "        \n",
    "        # Satış yapma zamanı gelmiş mi kontrol et\n",
    "        if current_date.day > 25:\n",
    "            # Portföydeki hisseleri sat\n",
    "            current_price = stock_data['Adj Close'][-1]\n",
    "            portfolio_value += (num_shares * current_price) - commission\n",
    "            num_shares = 0\n",
    "        \n",
    "        # Bir sonraki işlem tarihini güncelle\n",
    "        current_date += timedelta(days=1)\n",
    "    \n",
    "    # Stratejinin yıllık getirisi (annualized return)\n",
    "    years = (end_date - start_date).days / 365.0\n",
    "    final_amount = portfolio_value + (num_shares * stock_data['Adj Close'][-1])\n",
    "    annualized_return = (final_amount / starting_capital) ** (1 / years) - 1\n",
    "    \n",
    "    return final_amount, annualized_return\n",
    "\n",
    "\n",
    "if __name__ == \"__main__\":\n",
    "    starting_capital = 10000  # Başlangıç sermayesi: $10,000\n",
    "    symbol = \"AAPL\"  # Hisse senedi sembolü\n",
    "    start_date = \"2005-01-01\"\n",
    "    end_date = \"2022-12-31\"\n",
    "    commission_without = 0  # Komisyon alınmadığında\n",
    "    commission_with = 1  # Alım ve satım için $1 komisyon alındığında\n",
    "\n",
    "    # Komisyon alınmadığında sonuçlar\n",
    "    final_amount_without_commission, annualized_return_without = monthly_trading_strategy(\n",
    "        starting_capital, symbol, start_date, end_date, commission_without\n",
    "    )\n",
    "    \n",
    "    # Komisyon alındığında sonuçlar\n",
    "    final_amount_with_commission, annualized_return_with = monthly_trading_strategy(\n",
    "        starting_capital, symbol, start_date, end_date, commission_with\n",
    "    )\n",
    "    \n",
    "    print(\"Komisyon Alınmadığında:\")\n",
    "    print(f\"Son Para Miktarı: ${final_amount_without_commission:.2f}\")\n",
    "    print(f\"Yıllık Getiri: {annualized_return_without * 100:.2f}%\")\n",
    "    \n",
    "    print(\"\\nKomisyon Alındığında:\")\n",
    "    print(f\"Son Para Miktarı: ${final_amount_with_commission:.2f}\")\n",
    "    print(f\"Yıllık Getiri: {annualized_return_with * 100:.2f}%\")\n"
   ]
  },
  {
   "cell_type": "markdown",
   "metadata": {},
   "source": [
    "Sell in May and Go Away Strategy"
   ]
  },
  {
   "cell_type": "code",
   "execution_count": null,
   "metadata": {},
   "outputs": [],
   "source": [
    "import yfinance as yf\n",
    "from datetime import datetime, timedelta\n",
    "\n",
    "def sell_in_may_strategy(starting_capital, symbol, start_date, end_date, commission=0):\n",
    "    # Tarihleri uygun formata dönüştür\n",
    "    start_date = datetime.strptime(start_date, \"%Y-%m-%d\")\n",
    "    end_date = datetime.strptime(end_date, \"%Y-%m-%d\")\n",
    "    \n",
    "    # Başlangıç sermayesi ve portföy miktarını tanımla\n",
    "    portfolio_value = starting_capital\n",
    "    num_shares = 0\n",
    "    \n",
    "    # İlk alım tarihini belirle (1 Kasım günü veya bundan sonraki ilk işlem günü)\n",
    "    next_buy_date = start_date.replace(month=11, day=1)\n",
    "    if next_buy_date < start_date:\n",
    "        next_buy_date = start_date.replace(year=start_date.year+1, month=11, day=1)\n",
    "    \n",
    "    # Son tarihi bir gün artırarak başlayın\n",
    "    current_date = start_date + timedelta(days=1)\n",
    "    \n",
    "    # Değişkenler, analiz için listeler oluşturun\n",
    "    returns_per_trade = []\n",
    "    trade_lengths = []\n",
    "    \n",
    "    while current_date <= end_date:\n",
    "        # Hisse senedi verilerini yfinance kütüphanesini kullanarak alın\n",
    "        stock_data = yf.download(symbol, start=next_buy_date, end=current_date)\n",
    "        \n",
    "        # Alış yapma zamanı gelmiş mi kontrol et\n",
    "        if current_date.day == 1 and current_date.month == 11:\n",
    "            # Portföye alım yap\n",
    "            current_price = stock_data['Adj Close'][-1]\n",
    "            num_shares = portfolio_value // current_price\n",
    "            portfolio_value -= (num_shares * current_price) + commission\n",
    "            \n",
    "            # Bir sonraki alım tarihini belirle (1 Kasım günü veya bundan sonraki ilk işlem günü)\n",
    "            next_buy_date = current_date.replace(year=current_date.year+1, month=11, day=1)\n",
    "        \n",
    "        # Satış yapma zamanı gelmiş mi kontrol et\n",
    "        if current_date.day > 25 and current_date.month >= 5:\n",
    "            # Portföydeki hisseleri sat\n",
    "            current_price = stock_data['Adj Close'][-1]\n",
    "            portfolio_value += (num_shares * current_price) - commission\n",
    "            num_shares = 0\n",
    "        \n",
    "            # İşlem uzunluğunu kaydedin\n",
    "            trade_lengths.append((current_date - next_buy_date).days)\n",
    "        \n",
    "            # İşlem getirisini hesaplayın\n",
    "            trade_return = (portfolio_value / starting_capital) - 1\n",
    "            returns_per_trade.append(trade_return)\n",
    "        \n",
    "            # Bir sonraki alım tarihini güncelle (1 Kasım günü veya bundan sonraki ilk işlem günü)\n",
    "            next_buy_date = current_date.replace(year=current_date.year+1, month=11, day=1)\n",
    "        \n",
    "        # Bir sonraki işlem tarihini güncelle\n",
    "        current_date += timedelta(days=1)\n",
    "    \n",
    "    # Stratejinin yıllık getirisi (annualized return)\n",
    "    years = (end_date - start_date).days / 365.0\n",
    "    final_amount = portfolio_value + (num_shares * stock_data['Adj Close'][-1])\n",
    "    annualized_return = (final_amount / starting_capital) ** (1 / years) - 1\n",
    "    \n",
    "    # Ortalama işlem sayısı\n",
    "    average_trades_per_year = len(returns_per_trade) / years\n",
    "    \n",
    "    # Ortalama işlem karı\n",
    "    average_trade_return = sum(returns_per_trade) / len(returns_per_trade)\n",
    "    \n",
    "    # Ortalama işlem uzunluğu\n",
    "    average_trade_length = sum(trade_lengths) / len(trade_lengths)\n",
    "    \n",
    "    # Bir işlemdeki maksimum zarar ve maksimum kar\n",
    "    max_loss = min(returns_per_trade)\n",
    "    max_profit = max(returns_per_trade)\n",
    "    \n",
    "    # Portföy (kapital) maksimum ve minimum değeri\n",
    "    max_portfolio_value = max(portfolio_value + (num_shares * stock_data['Adj Close'][-1]))\n",
    "    min_portfolio_value = min(portfolio_value + (num_shares * stock_data['Adj Close'][-1]))\n",
    "    \n",
    "    return final_amount, annualized_return, average_trades_per_year, average_trade_return, average_trade_length, max_loss, max_profit, max_portfolio_value, min_portfolio_value\n",
    "\n",
    "# Ana fonksiyon\n",
    "if __name__ == \"__main__\":\n",
    "    starting_capital = 10000  # Başlangıç sermayesi: $10,000\n",
    "    symbol = \"AAPL\"  # Hisse senedi sembolü\n",
    "    start_date = \"2005-01-01\"\n",
    "    end_date = \"2022-12-31\"\n",
    "    commission_without = 0  # Komisyon alınmadığında\n",
    "    commission_with = 1  # Alım ve satım için $1 komisyon alındığında\n",
    "\n",
    "    # Komisyon alınmadığında sonuçlar\n",
    "    final_amount_without_commission, annualized_return_without, trades_per_year_without, \\\n",
    "    avg_trade_return_without, avg_trade_length_without, max_loss_without, max_profit_without, \\\n",
    "    max_portfolio_value_without, min_portfolio_value_without = sell_in_may_strategy(\n",
    "        starting_capital, symbol, start_date, end_date, commission_without\n",
    "    )\n",
    "    \n",
    "    # Komisyon alındığında sonuçlar\n",
    "    final_amount_with_commission, annualized_return_with, trades_per_year_with, \\\n",
    "    avg_trade_return_with, avg_trade_length_with, max_loss_with, max_profit_with, \\\n",
    "    max_portfolio_value_with, min_portfolio_value_with = sell_in_may_strategy(\n",
    "        starting_capital, symbol, start_date, end_date, commission_with\n",
    "    )\n",
    "    \n",
    "    print(\"Komisyon Alınmadığında:\")\n",
    "    print(f\"Son Para Miktarı: ${final_amount_without_commission:.2f}\")\n",
    "    print(f\"Yıllık Getiri: {annualized_return_without * 100:.2f}%\")\n",
    "    print(f\"Ortalama İşlem Sayısı: {trades_per_year_without:.2f}\")\n",
    "    print(f\"Ortalama İşlem Karı: {avg_trade_return_without * 100:.2f}%\")\n",
    "    print(f\"\n"
   ]
  }
 ],
 "metadata": {
  "kernelspec": {
   "display_name": "Python 3",
   "language": "python",
   "name": "python3"
  },
  "language_info": {
   "codemirror_mode": {
    "name": "ipython",
    "version": 3
   },
   "file_extension": ".py",
   "mimetype": "text/x-python",
   "name": "python",
   "nbconvert_exporter": "python",
   "pygments_lexer": "ipython3",
   "version": "3.8.5"
  },
  "orig_nbformat": 4
 },
 "nbformat": 4,
 "nbformat_minor": 2
}
